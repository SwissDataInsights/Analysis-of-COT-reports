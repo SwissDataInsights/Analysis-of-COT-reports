{
 "cells": [
  {
   "cell_type": "code",
   "execution_count": 2,
   "id": "1a01691b",
   "metadata": {},
   "outputs": [
    {
     "name": "stdout",
     "output_type": "stream",
     "text": [
      "Collecting yfinance\n",
      "  Downloading yfinance-0.2.43-py2.py3-none-any.whl.metadata (11 kB)\n",
      "Requirement already satisfied: pandas>=1.3.0 in /home/ec2-user/anaconda3/envs/python3/lib/python3.10/site-packages (from yfinance) (2.2.2)\n",
      "Requirement already satisfied: numpy>=1.16.5 in /home/ec2-user/anaconda3/envs/python3/lib/python3.10/site-packages (from yfinance) (1.22.4)\n",
      "Requirement already satisfied: requests>=2.31 in /home/ec2-user/anaconda3/envs/python3/lib/python3.10/site-packages (from yfinance) (2.32.3)\n",
      "Collecting multitasking>=0.0.7 (from yfinance)\n",
      "  Downloading multitasking-0.0.11-py3-none-any.whl.metadata (5.5 kB)\n",
      "Collecting lxml>=4.9.1 (from yfinance)\n",
      "  Downloading lxml-5.3.0-cp310-cp310-manylinux_2_17_x86_64.manylinux2014_x86_64.whl.metadata (3.8 kB)\n",
      "Requirement already satisfied: platformdirs>=2.0.0 in /home/ec2-user/anaconda3/envs/python3/lib/python3.10/site-packages (from yfinance) (4.2.2)\n",
      "Requirement already satisfied: pytz>=2022.5 in /home/ec2-user/anaconda3/envs/python3/lib/python3.10/site-packages (from yfinance) (2024.1)\n",
      "Collecting frozendict>=2.3.4 (from yfinance)\n",
      "  Downloading frozendict-2.4.4-cp310-cp310-manylinux_2_17_x86_64.manylinux2014_x86_64.whl.metadata (23 kB)\n",
      "Collecting peewee>=3.16.2 (from yfinance)\n",
      "  Downloading peewee-3.17.6.tar.gz (3.0 MB)\n",
      "\u001b[2K     \u001b[90m━━━━━━━━━━━━━━━━━━━━━━━━━━━━━━━━━━━━━━━━\u001b[0m \u001b[32m3.0/3.0 MB\u001b[0m \u001b[31m78.8 MB/s\u001b[0m eta \u001b[36m0:00:00\u001b[0m:00:01\u001b[0m\n",
      "\u001b[?25h  Installing build dependencies ... \u001b[?25ldone\n",
      "\u001b[?25h  Getting requirements to build wheel ... \u001b[?25ldone\n",
      "\u001b[?25h  Preparing metadata (pyproject.toml) ... \u001b[?25ldone\n",
      "\u001b[?25hRequirement already satisfied: beautifulsoup4>=4.11.1 in /home/ec2-user/anaconda3/envs/python3/lib/python3.10/site-packages (from yfinance) (4.12.3)\n",
      "Collecting html5lib>=1.1 (from yfinance)\n",
      "  Downloading html5lib-1.1-py2.py3-none-any.whl.metadata (16 kB)\n",
      "Requirement already satisfied: soupsieve>1.2 in /home/ec2-user/anaconda3/envs/python3/lib/python3.10/site-packages (from beautifulsoup4>=4.11.1->yfinance) (2.5)\n",
      "Requirement already satisfied: six>=1.9 in /home/ec2-user/anaconda3/envs/python3/lib/python3.10/site-packages (from html5lib>=1.1->yfinance) (1.16.0)\n",
      "Requirement already satisfied: webencodings in /home/ec2-user/anaconda3/envs/python3/lib/python3.10/site-packages (from html5lib>=1.1->yfinance) (0.5.1)\n",
      "Requirement already satisfied: python-dateutil>=2.8.2 in /home/ec2-user/anaconda3/envs/python3/lib/python3.10/site-packages (from pandas>=1.3.0->yfinance) (2.9.0)\n",
      "Requirement already satisfied: tzdata>=2022.7 in /home/ec2-user/anaconda3/envs/python3/lib/python3.10/site-packages (from pandas>=1.3.0->yfinance) (2024.1)\n",
      "Requirement already satisfied: charset-normalizer<4,>=2 in /home/ec2-user/anaconda3/envs/python3/lib/python3.10/site-packages (from requests>=2.31->yfinance) (3.3.2)\n",
      "Requirement already satisfied: idna<4,>=2.5 in /home/ec2-user/anaconda3/envs/python3/lib/python3.10/site-packages (from requests>=2.31->yfinance) (3.7)\n",
      "Requirement already satisfied: urllib3<3,>=1.21.1 in /home/ec2-user/anaconda3/envs/python3/lib/python3.10/site-packages (from requests>=2.31->yfinance) (2.2.2)\n",
      "Requirement already satisfied: certifi>=2017.4.17 in /home/ec2-user/anaconda3/envs/python3/lib/python3.10/site-packages (from requests>=2.31->yfinance) (2024.7.4)\n",
      "Downloading yfinance-0.2.43-py2.py3-none-any.whl (84 kB)\n",
      "\u001b[2K   \u001b[90m━━━━━━━━━━━━━━━━━━━━━━━━━━━━━━━━━━━━━━━━\u001b[0m \u001b[32m84.6/84.6 kB\u001b[0m \u001b[31m19.8 MB/s\u001b[0m eta \u001b[36m0:00:00\u001b[0m\n",
      "\u001b[?25hDownloading frozendict-2.4.4-cp310-cp310-manylinux_2_17_x86_64.manylinux2014_x86_64.whl (117 kB)\n",
      "\u001b[2K   \u001b[90m━━━━━━━━━━━━━━━━━━━━━━━━━━━━━━━━━━━━━━━━\u001b[0m \u001b[32m117.3/117.3 kB\u001b[0m \u001b[31m20.4 MB/s\u001b[0m eta \u001b[36m0:00:00\u001b[0m\n",
      "\u001b[?25hDownloading html5lib-1.1-py2.py3-none-any.whl (112 kB)\n",
      "\u001b[2K   \u001b[90m━━━━━━━━━━━━━━━━━━━━━━━━━━━━━━━━━━━━━━━━\u001b[0m \u001b[32m112.2/112.2 kB\u001b[0m \u001b[31m23.5 MB/s\u001b[0m eta \u001b[36m0:00:00\u001b[0m\n",
      "\u001b[?25hDownloading lxml-5.3.0-cp310-cp310-manylinux_2_17_x86_64.manylinux2014_x86_64.whl (5.0 MB)\n",
      "\u001b[2K   \u001b[90m━━━━━━━━━━━━━━━━━━━━━━━━━━━━━━━━━━━━━━━━\u001b[0m \u001b[32m5.0/5.0 MB\u001b[0m \u001b[31m91.4 MB/s\u001b[0m eta \u001b[36m0:00:00\u001b[0mta \u001b[36m0:00:01\u001b[0m\n",
      "\u001b[?25hDownloading multitasking-0.0.11-py3-none-any.whl (8.5 kB)\n",
      "Building wheels for collected packages: peewee\n",
      "  Building wheel for peewee (pyproject.toml) ... \u001b[?25ldone\n",
      "\u001b[?25h  Created wheel for peewee: filename=peewee-3.17.6-cp310-cp310-linux_x86_64.whl size=279106 sha256=752ffc46162e3984dbf37ef4d0ec990af013905dd82665e439b833dbae8945f0\n",
      "  Stored in directory: /home/ec2-user/.cache/pip/wheels/4b/b9/b0/83d6e258e8f963f5ff111a2cd8c483ca59372a86e6a2535212\n",
      "Successfully built peewee\n",
      "Installing collected packages: peewee, multitasking, lxml, html5lib, frozendict, yfinance\n",
      "Successfully installed frozendict-2.4.4 html5lib-1.1 lxml-5.3.0 multitasking-0.0.11 peewee-3.17.6 yfinance-0.2.43\n",
      "Note: you may need to restart the kernel to use updated packages.\n"
     ]
    }
   ],
   "source": [
    "pip install yfinance"
   ]
  },
  {
   "cell_type": "code",
   "execution_count": 3,
   "id": "6316f491",
   "metadata": {},
   "outputs": [
    {
     "name": "stdout",
     "output_type": "stream",
     "text": [
      "Requirement already satisfied: pandas in /home/ec2-user/anaconda3/envs/python3/lib/python3.10/site-packages (2.2.2)\n",
      "Requirement already satisfied: numpy>=1.22.4 in /home/ec2-user/anaconda3/envs/python3/lib/python3.10/site-packages (from pandas) (1.22.4)\n",
      "Requirement already satisfied: python-dateutil>=2.8.2 in /home/ec2-user/anaconda3/envs/python3/lib/python3.10/site-packages (from pandas) (2.9.0)\n",
      "Requirement already satisfied: pytz>=2020.1 in /home/ec2-user/anaconda3/envs/python3/lib/python3.10/site-packages (from pandas) (2024.1)\n",
      "Requirement already satisfied: tzdata>=2022.7 in /home/ec2-user/anaconda3/envs/python3/lib/python3.10/site-packages (from pandas) (2024.1)\n",
      "Requirement already satisfied: six>=1.5 in /home/ec2-user/anaconda3/envs/python3/lib/python3.10/site-packages (from python-dateutil>=2.8.2->pandas) (1.16.0)\n",
      "Note: you may need to restart the kernel to use updated packages.\n"
     ]
    }
   ],
   "source": [
    "pip install pandas"
   ]
  },
  {
   "cell_type": "code",
   "execution_count": 4,
   "id": "b057e962",
   "metadata": {},
   "outputs": [
    {
     "name": "stdout",
     "output_type": "stream",
     "text": [
      "Requirement already satisfied: numpy in /home/ec2-user/anaconda3/envs/python3/lib/python3.10/site-packages (1.22.4)\n",
      "Note: you may need to restart the kernel to use updated packages.\n"
     ]
    }
   ],
   "source": [
    "pip install numpy"
   ]
  },
  {
   "cell_type": "code",
   "execution_count": 5,
   "id": "be95523f",
   "metadata": {},
   "outputs": [
    {
     "name": "stdout",
     "output_type": "stream",
     "text": [
      "Requirement already satisfied: scikit-learn in /home/ec2-user/anaconda3/envs/python3/lib/python3.10/site-packages (1.5.1)\n",
      "Requirement already satisfied: numpy>=1.19.5 in /home/ec2-user/anaconda3/envs/python3/lib/python3.10/site-packages (from scikit-learn) (1.22.4)\n",
      "Requirement already satisfied: scipy>=1.6.0 in /home/ec2-user/anaconda3/envs/python3/lib/python3.10/site-packages (from scikit-learn) (1.14.0)\n",
      "Requirement already satisfied: joblib>=1.2.0 in /home/ec2-user/anaconda3/envs/python3/lib/python3.10/site-packages (from scikit-learn) (1.4.2)\n",
      "Requirement already satisfied: threadpoolctl>=3.1.0 in /home/ec2-user/anaconda3/envs/python3/lib/python3.10/site-packages (from scikit-learn) (3.5.0)\n",
      "Collecting numpy>=1.19.5 (from scikit-learn)\n",
      "  Downloading numpy-2.1.1-cp310-cp310-manylinux_2_17_x86_64.manylinux2014_x86_64.whl.metadata (60 kB)\n",
      "\u001b[2K     \u001b[90m━━━━━━━━━━━━━━━━━━━━━━━━━━━━━━━━━━━━━━━━\u001b[0m \u001b[32m60.9/60.9 kB\u001b[0m \u001b[31m5.9 MB/s\u001b[0m eta \u001b[36m0:00:00\u001b[0m\n",
      "\u001b[?25hDownloading numpy-2.1.1-cp310-cp310-manylinux_2_17_x86_64.manylinux2014_x86_64.whl (16.3 MB)\n",
      "\u001b[2K   \u001b[90m━━━━━━━━━━━━━━━━━━━━━━━━━━━━━━━━━━━━━━━━\u001b[0m \u001b[32m16.3/16.3 MB\u001b[0m \u001b[31m78.9 MB/s\u001b[0m eta \u001b[36m0:00:00\u001b[0m:00:01\u001b[0m00:01\u001b[0m\n",
      "\u001b[?25hInstalling collected packages: numpy\n",
      "  Attempting uninstall: numpy\n",
      "    Found existing installation: numpy 1.22.4\n",
      "    Uninstalling numpy-1.22.4:\n",
      "      Successfully uninstalled numpy-1.22.4\n",
      "\u001b[31mERROR: pip's dependency resolver does not currently take into account all the packages that are installed. This behaviour is the source of the following dependency conflicts.\n",
      "mkl-fft 1.3.10 requires mkl, which is not installed.\n",
      "hdijupyterutils 0.21.0 requires pandas<2.0.0,>=0.17.1, but you have pandas 2.2.2 which is incompatible.\n",
      "numba 0.60.0 requires numpy<2.1,>=1.22, but you have numpy 2.1.1 which is incompatible.\n",
      "sagemaker 2.231.0 requires numpy<2.0,>=1.9.0, but you have numpy 2.1.1 which is incompatible.\n",
      "sparkmagic 0.21.0 requires pandas<2.0.0,>=0.17.1, but you have pandas 2.2.2 which is incompatible.\u001b[0m\u001b[31m\n",
      "\u001b[0mSuccessfully installed numpy-2.1.1\n",
      "Note: you may need to restart the kernel to use updated packages.\n"
     ]
    }
   ],
   "source": [
    "pip install scikit-learn"
   ]
  },
  {
   "cell_type": "code",
   "execution_count": 6,
   "id": "f4342d57",
   "metadata": {},
   "outputs": [
    {
     "name": "stdout",
     "output_type": "stream",
     "text": [
      "Collecting xgboost\n",
      "  Downloading xgboost-2.1.1-py3-none-manylinux2014_x86_64.whl.metadata (2.0 kB)\n",
      "Requirement already satisfied: numpy in /home/ec2-user/anaconda3/envs/python3/lib/python3.10/site-packages (from xgboost) (2.1.1)\n",
      "Requirement already satisfied: scipy in /home/ec2-user/anaconda3/envs/python3/lib/python3.10/site-packages (from xgboost) (1.14.0)\n",
      "Downloading xgboost-2.1.1-py3-none-manylinux2014_x86_64.whl (4.5 MB)\n",
      "\u001b[2K   \u001b[90m━━━━━━━━━━━━━━━━━━━━━━━━━━━━━━━━━━━━━━━━\u001b[0m \u001b[32m4.5/4.5 MB\u001b[0m \u001b[31m77.4 MB/s\u001b[0m eta \u001b[36m0:00:00\u001b[0mta \u001b[36m0:00:01\u001b[0m\n",
      "\u001b[?25hInstalling collected packages: xgboost\n",
      "Successfully installed xgboost-2.1.1\n",
      "Note: you may need to restart the kernel to use updated packages.\n"
     ]
    }
   ],
   "source": [
    "pip install xgboost"
   ]
  },
  {
   "cell_type": "code",
   "execution_count": 7,
   "id": "521d7f26",
   "metadata": {},
   "outputs": [
    {
     "name": "stdout",
     "output_type": "stream",
     "text": [
      "Collecting imblearn\n",
      "  Downloading imblearn-0.0-py2.py3-none-any.whl.metadata (355 bytes)\n",
      "Collecting imbalanced-learn (from imblearn)\n",
      "  Downloading imbalanced_learn-0.12.3-py3-none-any.whl.metadata (8.3 kB)\n",
      "Requirement already satisfied: numpy>=1.17.3 in /home/ec2-user/anaconda3/envs/python3/lib/python3.10/site-packages (from imbalanced-learn->imblearn) (2.1.1)\n",
      "Requirement already satisfied: scipy>=1.5.0 in /home/ec2-user/anaconda3/envs/python3/lib/python3.10/site-packages (from imbalanced-learn->imblearn) (1.14.0)\n",
      "Requirement already satisfied: scikit-learn>=1.0.2 in /home/ec2-user/anaconda3/envs/python3/lib/python3.10/site-packages (from imbalanced-learn->imblearn) (1.5.1)\n",
      "Requirement already satisfied: joblib>=1.1.1 in /home/ec2-user/anaconda3/envs/python3/lib/python3.10/site-packages (from imbalanced-learn->imblearn) (1.4.2)\n",
      "Requirement already satisfied: threadpoolctl>=2.0.0 in /home/ec2-user/anaconda3/envs/python3/lib/python3.10/site-packages (from imbalanced-learn->imblearn) (3.5.0)\n",
      "Downloading imblearn-0.0-py2.py3-none-any.whl (1.9 kB)\n",
      "Downloading imbalanced_learn-0.12.3-py3-none-any.whl (258 kB)\n",
      "\u001b[2K   \u001b[90m━━━━━━━━━━━━━━━━━━━━━━━━━━━━━━━━━━━━━━━━\u001b[0m \u001b[32m258.3/258.3 kB\u001b[0m \u001b[31m18.1 MB/s\u001b[0m eta \u001b[36m0:00:00\u001b[0m\n",
      "\u001b[?25hInstalling collected packages: imbalanced-learn, imblearn\n",
      "Successfully installed imbalanced-learn-0.12.3 imblearn-0.0\n",
      "Note: you may need to restart the kernel to use updated packages.\n"
     ]
    }
   ],
   "source": [
    "pip install imblearn"
   ]
  },
  {
   "cell_type": "code",
   "execution_count": 8,
   "id": "a7ef6764",
   "metadata": {},
   "outputs": [
    {
     "name": "stdout",
     "output_type": "stream",
     "text": [
      "Requirement already satisfied: joblib in /home/ec2-user/anaconda3/envs/python3/lib/python3.10/site-packages (1.4.2)\n",
      "Note: you may need to restart the kernel to use updated packages.\n"
     ]
    }
   ],
   "source": [
    "pip install joblib"
   ]
  },
  {
   "cell_type": "code",
   "execution_count": 1,
   "id": "9913a6b1",
   "metadata": {},
   "outputs": [
    {
     "name": "stderr",
     "output_type": "stream",
     "text": [
      "/home/ec2-user/anaconda3/envs/python3/lib/python3.10/site-packages/xgboost/core.py:265: FutureWarning: Your system has an old version of glibc (< 2.28). We will stop supporting Linux distros with glibc older than 2.28 after **May 31, 2025**. Please upgrade to a recent Linux distro (with glibc 2.28+) to use future versions of XGBoost.\n",
      "Note: You have installed the 'manylinux2014' variant of XGBoost. Certain features such as GPU algorithms or federated learning are not available. To use these features, please upgrade to a recent Linux distro with glibc 2.28+, and install the 'manylinux_2_28' variant.\n",
      "  warnings.warn(\n"
     ]
    }
   ],
   "source": [
    "import boto3\n",
    "import os\n",
    "import joblib\n",
    "\n",
    "import yfinance as yf\n",
    "import pandas as pd\n",
    "\n",
    "from sklearn.model_selection import train_test_split\n",
    "from sklearn.metrics import precision_score, recall_score\n",
    "from xgboost import XGBClassifier  # Zmiana na XGBClassifier dla klasyfikacji\n",
    "from sklearn.model_selection import GridSearchCV\n",
    "from imblearn.over_sampling import SMOTE  # Dodanie SMOTE\n",
    "from sklearn.metrics import confusion_matrix"
   ]
  },
  {
   "cell_type": "code",
   "execution_count": 2,
   "id": "ff92005f",
   "metadata": {},
   "outputs": [],
   "source": [
    "# Inicjalizacja klienta S3\n",
    "s3 = boto3.client('s3')\n",
    "\n",
    "# Definiowanie parametrów S3\n",
    "bucket_name = 'zasoby'\n",
    "file_name = 'SwissRe_AG_History.csv'\n",
    "s3_key = 'SWISSRE/SwissRe_AG_History.csv'"
   ]
  },
  {
   "cell_type": "code",
   "execution_count": 3,
   "id": "f347a224",
   "metadata": {},
   "outputs": [
    {
     "name": "stderr",
     "output_type": "stream",
     "text": [
      "[*********************100%***********************]  1 of 1 completed\n"
     ]
    }
   ],
   "source": [
    "# Definicja tickeru dla Swiss Re AG\n",
    "ticker = 'SREN.SW'\n",
    "\n",
    "# Pobranie danych\n",
    "sren_data = yf.download(ticker, start='2015-01-01', end='2024-09-21', interval='1d')\n",
    "\n",
    "sren_data.to_csv('SwissRe_AG_History.csv')\n",
    "\n",
    "# Wczytanie pliku CSV do DataFrame\n",
    "data = pd.read_csv('SwissRe_AG_History.csv')\n",
    "\n",
    "# 1. Obliczanie SMA (Średnia Krocząca)\n",
    "data['SMA_20'] = data['Close'].rolling(window=20).mean()\n",
    "\n",
    "# 2. Obliczanie EMA (Eksponencjalna Średnia Krocząca)\n",
    "data['EMA_20'] = data['Close'].ewm(span=20, adjust=False).mean()\n",
    "\n",
    "# 3. Obliczanie RSI (Relative Strength Index)\n",
    "# Oblicz zmiany cen\n",
    "delta = data['Close'].diff()\n",
    "\n",
    "# Oblicz zyski i straty\n",
    "gain = delta.where(delta > 0, 0)\n",
    "loss = -delta.where(delta < 0, 0)\n",
    "\n",
    "# Oblicz średnią zysków i strat\n",
    "window_length = 14\n",
    "avg_gain = gain.rolling(window=window_length, min_periods=1).mean()\n",
    "avg_loss = loss.rolling(window=window_length, min_periods=1).mean()\n",
    "\n",
    "# Oblicz współczynnik siły względnej (RS)\n",
    "rs = avg_gain / avg_loss\n",
    "\n",
    "# Oblicz RSI\n",
    "data['RSI_14'] = 100 - (100 / (1 + rs))\n",
    "\n",
    "# 4. Obliczanie Wstęg Bollingera\n",
    "# Środkowa wstęga\n",
    "data['middle_band'] = data['Close'].rolling(window=20).mean()\n",
    "\n",
    "# Odchylenie standardowe\n",
    "data['std_dev'] = data['Close'].rolling(window=20).std()\n",
    "\n",
    "# Górna i dolna wstęga Bollingera\n",
    "data['upper_band'] = data['middle_band'] + 2 * data['std_dev']\n",
    "data['lower_band'] = data['middle_band'] - 2 * data['std_dev']\n",
    "\n",
    "# 5. Obliczanie MACD (Moving Average Convergence Divergence)\n",
    "# Oblicz 12-dniową i 26-dniową eksponencjalną średnią kroczącą\n",
    "data['EMA_12'] = data['Close'].ewm(span=12, adjust=False).mean()\n",
    "data['EMA_26'] = data['Close'].ewm(span=26, adjust=False).mean()\n",
    "\n",
    "# Oblicz MACD\n",
    "data['MACD'] = data['EMA_12'] - data['EMA_26']\n",
    "\n",
    "# Oblicz linię sygnałową MACD (9-dniowa eksponencjalna średnia krocząca MACD)\n",
    "data['MACD_signal'] = data['MACD'].ewm(span=9, adjust=False).mean()\n",
    "\n",
    "# 6. Obliczanie ATR (Average True Range)\n",
    "# Oblicz True Range\n",
    "data['TR'] = data[['High', 'Low', 'Close']].max(axis=1) - data[['High', 'Low', 'Close']].min(axis=1)\n",
    "\n",
    "# Oblicz ATR jako średnią kroczącą z True Range\n",
    "data['ATR_14'] = data['TR'].rolling(window=14).mean()\n",
    "\n",
    "# Zapisanie pliku z nowymi kolumnami wskaźników do CSV\n",
    "data.to_csv('SwissRe_AG_with_Indicators.csv', index=False)"
   ]
  },
  {
   "cell_type": "code",
   "execution_count": 4,
   "id": "74f58735",
   "metadata": {},
   "outputs": [
    {
     "name": "stdout",
     "output_type": "stream",
     "text": [
      "Fitting 3 folds for each of 108 candidates, totalling 324 fits\n",
      "Najlepsze hiperparametry: {'colsample_bytree': 0.8, 'learning_rate': 0.2, 'max_depth': 5, 'n_estimators': 300, 'subsample': 0.8}\n",
      "Precision: 0.27102803738317754\n",
      "Recall: 0.35365853658536583\n",
      "Macierz pomyłek:\n",
      " [[326  78]\n",
      " [ 53  29]]\n"
     ]
    }
   ],
   "source": [
    "# Wczytanie pliku CSV do DataFrame\n",
    "data = pd.read_csv('SwissRe_AG_with_Indicators.csv')\n",
    "\n",
    "# Tworzenie nowej kolumny 'Change', która oblicza procentową zmianę cen zamknięcia\n",
    "data['Price_Change'] = (data['Close'].pct_change() * 100).shift(-1)\n",
    "\n",
    "# Definiowanie wzrostu/spadku na podstawie progu (np. 1% wzrostu lub spadku)\n",
    "threshold = 1  # Zakładamy, że wzrost/spadek o 1% to znacząca zmiana\n",
    "data['Target'] = [1 if change >= threshold else 0 for change in data['Price_Change']]\n",
    "\n",
    "# Usunięcie wierszy z brakującymi wartościami (wynikającymi z 'shift' w procentowej zmianie)\n",
    "data.dropna(inplace=True)\n",
    "\n",
    "# Używamy kolumn 'Open', 'High', 'Low', 'Volume' jako cech\n",
    "X = data[['Open', 'High', 'Low', 'Volume', 'SMA_20',\n",
    "       'EMA_20', 'RSI_14', 'middle_band', 'std_dev', 'upper_band',\n",
    "       'lower_band', 'EMA_12', 'EMA_26', 'MACD', 'MACD_signal', 'TR', 'ATR_14']]\n",
    "y = data['Target']  # Zmienna docelowa: wzrost (1) lub spadek (0)\n",
    "\n",
    "# Podział danych na zbiór treningowy i testowy\n",
    "X_train, X_test, y_train, y_test = train_test_split(X, y, test_size=0.2, random_state=42)\n",
    "\n",
    "# Zastosowanie SMOTE w celu zrównoważenia danych treningowych\n",
    "sm = SMOTE(random_state=42)\n",
    "X_train_res, y_train_res = sm.fit_resample(X_train, y_train)\n",
    "\n",
    "# Inicjalizacja modelu XGBoost do klasyfikacji\n",
    "xgb_model = XGBClassifier(random_state=42)\n",
    "\n",
    "# Definicja siatki hiperparametrów do przeszukania\n",
    "param_grid = {\n",
    "    'n_estimators': [100, 200, 300],  # liczba drzew\n",
    "    'max_depth': [3, 4, 5],           # maksymalna głębokość drzewa\n",
    "    'learning_rate': [0.01, 0.1, 0.2],# współczynnik uczenia\n",
    "    'subsample': [0.8, 1],            # procent próbek do użycia dla pojedynczego drzewa\n",
    "    'colsample_bytree': [0.8, 1]      # procent cech do użycia dla pojedynczego drzewa\n",
    "}\n",
    "\n",
    "# GridSearchCV do optymalizacji hiperparametrów\n",
    "grid_search = GridSearchCV(estimator=xgb_model, param_grid=param_grid,\n",
    "                           cv=3, scoring='accuracy', verbose=1)\n",
    "\n",
    "# Trening modelu z przeszukaniem hiperparametrów na zrównoważonym zbiorze danych\n",
    "grid_search.fit(X_train_res, y_train_res)\n",
    "\n",
    "# Wyświetlenie najlepszych parametrów\n",
    "print(\"Najlepsze hiperparametry:\", grid_search.best_params_)\n",
    "\n",
    "# Predykcja na zbiorze testowym\n",
    "y_pred = grid_search.best_estimator_.predict(X_test)\n",
    "\n",
    "# Obliczenie Precision i Recall\n",
    "precision = precision_score(y_test, y_pred)\n",
    "recall = recall_score(y_test, y_pred)\n",
    "\n",
    "print(f\"Precision: {precision}\")\n",
    "print(f\"Recall: {recall}\")\n",
    "\n",
    "# Wyświetlenie macierzy pomyłek dla pełniejszej oceny\n",
    "cm = confusion_matrix(y_test, y_pred)\n",
    "print(\"Macierz pomyłek:\\n\", cm)"
   ]
  },
  {
   "cell_type": "code",
   "execution_count": 5,
   "id": "b36b0d8e",
   "metadata": {},
   "outputs": [
    {
     "name": "stdout",
     "output_type": "stream",
     "text": [
      "Model został zapisany w zasobniku S3: s3://zasoby/models/best_xgb_model.pkl\n"
     ]
    }
   ],
   "source": [
    "# Zapisz model lokalnie na instancji Notebook\n",
    "local_model_filename = 'best_xgb_model.pkl'\n",
    "joblib.dump(grid_search.best_estimator_, local_model_filename)\n",
    "\n",
    "# Inicjalizacja klienta S3\n",
    "s3 = boto3.client('s3')\n",
    "\n",
    "# Zdefiniuj nazwę zasobnika (bucket) i klucz (key) w S3\n",
    "bucket_name = 'zasoby'  # Twoja nazwa zasobnika\n",
    "s3_key = 'models/best_xgb_model.pkl'  # Ścieżka w zasobniku S3, gdzie plik ma być zapisany\n",
    "\n",
    "# Prześlij lokalny plik do S3\n",
    "s3.upload_file(local_model_filename, bucket_name, s3_key)\n",
    "\n",
    "print(f'Model został zapisany w zasobniku S3: s3://{bucket_name}/{s3_key}')"
   ]
  },
  {
   "cell_type": "code",
   "execution_count": null,
   "id": "43ce589c",
   "metadata": {},
   "outputs": [],
   "source": []
  }
 ],
 "metadata": {
  "kernelspec": {
   "display_name": "conda_python3",
   "language": "python",
   "name": "conda_python3"
  },
  "language_info": {
   "codemirror_mode": {
    "name": "ipython",
    "version": 3
   },
   "file_extension": ".py",
   "mimetype": "text/x-python",
   "name": "python",
   "nbconvert_exporter": "python",
   "pygments_lexer": "ipython3",
   "version": "3.10.14"
  }
 },
 "nbformat": 4,
 "nbformat_minor": 5
}
