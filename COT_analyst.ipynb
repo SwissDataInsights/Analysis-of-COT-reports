{
 "cells": [
  {
   "metadata": {
    "ExecuteTime": {
     "end_time": "2024-11-17T12:28:50.477640Z",
     "start_time": "2024-11-17T12:28:50.474641Z"
    }
   },
   "cell_type": "code",
   "source": [
    "import os\n",
    "import requests\n",
    "import zipfile\n",
    "import pandas as pd"
   ],
   "id": "8b9da124b49d075d",
   "outputs": [],
   "execution_count": 14
  },
  {
   "metadata": {
    "ExecuteTime": {
     "end_time": "2024-11-17T12:28:50.489956Z",
     "start_time": "2024-11-17T12:28:50.486437Z"
    }
   },
   "cell_type": "code",
   "source": [
    "urls = {\n",
    "    'annual_2020': 'https://www.cftc.gov/files/dea/history/dea_fut_xls_2020.zip',\n",
    "    'annual_2021': 'https://www.cftc.gov/files/dea/history/dea_fut_xls_2021.zip',\n",
    "    'annual_2022': 'https://www.cftc.gov/files/dea/history/dea_fut_xls_2022.zip',\n",
    "    'annual_2023': 'https://www.cftc.gov/files/dea/history/dea_fut_xls_2023.zip',\n",
    "    'annual_2024': 'https://www.cftc.gov/files/dea/history/dea_fut_xls_2024.zip'\n",
    "}"
   ],
   "id": "59841c91753ae2b5",
   "outputs": [],
   "execution_count": 15
  },
  {
   "metadata": {
    "ExecuteTime": {
     "end_time": "2024-11-17T12:28:50.509968Z",
     "start_time": "2024-11-17T12:28:50.507210Z"
    }
   },
   "cell_type": "code",
   "source": [
    "extracted_dir = 'data'\n",
    "os.makedirs(extracted_dir, exist_ok=True)"
   ],
   "id": "bbc3474a086c7e26",
   "outputs": [],
   "execution_count": 16
  },
  {
   "metadata": {
    "ExecuteTime": {
     "end_time": "2024-11-17T12:29:16.034511Z",
     "start_time": "2024-11-17T12:28:50.533036Z"
    }
   },
   "cell_type": "code",
   "source": [
    "for name, url in urls.items():\n",
    "    zip_file_path = f'{name}.zip'\n",
    "\n",
    "    response = requests.get(url)\n",
    "    response.raise_for_status()\n",
    "    with open(zip_file_path, 'wb') as file:\n",
    "        file.write(response.content)\n",
    "\n",
    "    with zipfile.ZipFile(zip_file_path, 'r') as zip_ref:\n",
    "        for member in zip_ref.namelist():\n",
    "            filename = os.path.basename(member)\n",
    "            if filename:\n",
    "                extracted_file_path = os.path.join(extracted_dir, f'{name}_{filename}')\n",
    "                with zip_ref.open(member) as source, open(extracted_file_path, 'wb') as target:\n",
    "                    target.write(source.read())\n",
    "\n",
    "    os.remove(zip_file_path)\n",
    "\n",
    "print(f\"The files have been downloaded and saved in the directory '{extracted_dir}'.\")"
   ],
   "id": "adc15914e6ed66b0",
   "outputs": [
    {
     "name": "stdout",
     "output_type": "stream",
     "text": [
      "The files have been downloaded and saved in the directory 'data'.\n"
     ]
    }
   ],
   "execution_count": 17
  },
  {
   "metadata": {
    "ExecuteTime": {
     "end_time": "2024-11-17T12:29:27.636329Z",
     "start_time": "2024-11-17T12:29:16.121027Z"
    }
   },
   "cell_type": "code",
   "source": [
    "dfs = []\n",
    "for file in os.listdir(extracted_dir):\n",
    "    if file.endswith('.xls'):\n",
    "        file_path = os.path.join(extracted_dir, file)\n",
    "        df = pd.read_excel(file_path)\n",
    "        dfs.append(df)\n",
    "\n",
    "merged_df = pd.concat(dfs, ignore_index=True)\n",
    "\n",
    "output_csv_path = 'data/merged_data.csv'\n",
    "\n",
    "merged_df.to_csv(output_csv_path, index=False)\n",
    "\n",
    "print(f\"The files have been downloaded, linked and saved as '{output_csv_path}'.\")"
   ],
   "id": "b58d0dd821f423ff",
   "outputs": [
    {
     "name": "stdout",
     "output_type": "stream",
     "text": [
      "The files have been downloaded, linked and saved as 'data/merged_data.csv'.\n"
     ]
    }
   ],
   "execution_count": 18
  },
  {
   "metadata": {
    "ExecuteTime": {
     "end_time": "2024-11-17T12:29:27.722212Z",
     "start_time": "2024-11-17T12:29:27.718233Z"
    }
   },
   "cell_type": "code",
   "source": "",
   "id": "3cbbc5c458660310",
   "outputs": [],
   "execution_count": null
  }
 ],
 "metadata": {
  "kernelspec": {
   "display_name": "Python 3",
   "language": "python",
   "name": "python3"
  },
  "language_info": {
   "codemirror_mode": {
    "name": "ipython",
    "version": 2
   },
   "file_extension": ".py",
   "mimetype": "text/x-python",
   "name": "python",
   "nbconvert_exporter": "python",
   "pygments_lexer": "ipython2",
   "version": "2.7.6"
  }
 },
 "nbformat": 4,
 "nbformat_minor": 5
}
