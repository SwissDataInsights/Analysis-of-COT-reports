{
 "cells": [
  {
   "cell_type": "code",
   "execution_count": 19,
   "id": "521b78e0-8b26-4242-9c17-616f056db6d3",
   "metadata": {},
   "outputs": [],
   "source": [
    "import pandas as pd\n",
    "from sklearn.metrics import precision_score, recall_score\n",
    "from sklearn.model_selection import train_test_split\n",
    "from sklearn.metrics import mean_squared_error\n",
    "from xgboost import XGBRegressor\n",
    "from sklearn.model_selection import GridSearchCV"
   ]
  },
  {
   "cell_type": "code",
   "execution_count": 12,
   "id": "5cfb501b-ee99-41bf-932b-3b645784f73c",
   "metadata": {},
   "outputs": [
    {
     "data": {
      "text/html": [
       "<div>\n",
       "<style scoped>\n",
       "    .dataframe tbody tr th:only-of-type {\n",
       "        vertical-align: middle;\n",
       "    }\n",
       "\n",
       "    .dataframe tbody tr th {\n",
       "        vertical-align: top;\n",
       "    }\n",
       "\n",
       "    .dataframe thead th {\n",
       "        text-align: right;\n",
       "    }\n",
       "</style>\n",
       "<table border=\"1\" class=\"dataframe\">\n",
       "  <thead>\n",
       "    <tr style=\"text-align: right;\">\n",
       "      <th></th>\n",
       "      <th>Date</th>\n",
       "      <th>Open</th>\n",
       "      <th>High</th>\n",
       "      <th>Low</th>\n",
       "      <th>Close</th>\n",
       "      <th>Adj Close</th>\n",
       "      <th>Volume</th>\n",
       "    </tr>\n",
       "  </thead>\n",
       "  <tbody>\n",
       "    <tr>\n",
       "      <th>0</th>\n",
       "      <td>2023-01-03</td>\n",
       "      <td>87.639999</td>\n",
       "      <td>89.760002</td>\n",
       "      <td>87.260002</td>\n",
       "      <td>89.580002</td>\n",
       "      <td>78.203857</td>\n",
       "      <td>1304492</td>\n",
       "    </tr>\n",
       "    <tr>\n",
       "      <th>1</th>\n",
       "      <td>2023-01-04</td>\n",
       "      <td>89.699997</td>\n",
       "      <td>93.680000</td>\n",
       "      <td>89.699997</td>\n",
       "      <td>93.680000</td>\n",
       "      <td>81.783180</td>\n",
       "      <td>2001890</td>\n",
       "    </tr>\n",
       "    <tr>\n",
       "      <th>2</th>\n",
       "      <td>2023-01-05</td>\n",
       "      <td>93.500000</td>\n",
       "      <td>93.500000</td>\n",
       "      <td>92.059998</td>\n",
       "      <td>93.440002</td>\n",
       "      <td>81.573662</td>\n",
       "      <td>1277842</td>\n",
       "    </tr>\n",
       "    <tr>\n",
       "      <th>3</th>\n",
       "      <td>2023-01-06</td>\n",
       "      <td>93.559998</td>\n",
       "      <td>94.900002</td>\n",
       "      <td>93.300003</td>\n",
       "      <td>94.900002</td>\n",
       "      <td>82.848251</td>\n",
       "      <td>1336262</td>\n",
       "    </tr>\n",
       "    <tr>\n",
       "      <th>4</th>\n",
       "      <td>2023-01-09</td>\n",
       "      <td>94.300003</td>\n",
       "      <td>94.860001</td>\n",
       "      <td>93.820000</td>\n",
       "      <td>94.040001</td>\n",
       "      <td>82.097466</td>\n",
       "      <td>1016578</td>\n",
       "    </tr>\n",
       "  </tbody>\n",
       "</table>\n",
       "</div>"
      ],
      "text/plain": [
       "         Date       Open       High        Low      Close  Adj Close   Volume\n",
       "0  2023-01-03  87.639999  89.760002  87.260002  89.580002  78.203857  1304492\n",
       "1  2023-01-04  89.699997  93.680000  89.699997  93.680000  81.783180  2001890\n",
       "2  2023-01-05  93.500000  93.500000  92.059998  93.440002  81.573662  1277842\n",
       "3  2023-01-06  93.559998  94.900002  93.300003  94.900002  82.848251  1336262\n",
       "4  2023-01-09  94.300003  94.860001  93.820000  94.040001  82.097466  1016578"
      ]
     },
     "execution_count": 12,
     "metadata": {},
     "output_type": "execute_result"
    }
   ],
   "source": [
    "# Wczytanie pliku CSV do DataFrame\n",
    "data = pd.read_csv('SwissRe_AG_History.csv')\n",
    "\n",
    "# Wyświetlenie pierwszych kilku wierszy danych\n",
    "data.shape\n",
    "data.head()"
   ]
  },
  {
   "cell_type": "code",
   "execution_count": 13,
   "id": "3c01de67-5206-4171-aa7c-39ed0cc8b470",
   "metadata": {},
   "outputs": [],
   "source": [
    "# Załóżmy, że kolumny 'Open', 'High', 'Low', 'Volume' będą cechami\n",
    "X = data[['Open', 'High', 'Low', 'Volume']]\n",
    "y = data['Close']\n",
    "\n",
    "# Podział danych na zbiór treningowy i testowy\n",
    "X_train, X_test, y_train, y_test = train_test_split(X, y, test_size=0.2, random_state=42)"
   ]
  },
  {
   "cell_type": "code",
   "execution_count": 17,
   "id": "125eb55b-816b-4f8f-ae60-b760bcc7d77f",
   "metadata": {},
   "outputs": [
    {
     "name": "stdout",
     "output_type": "stream",
     "text": [
      "Fitting 3 folds for each of 108 candidates, totalling 324 fits\n",
      "GridSearchCV(cv=3,\n",
      "             estimator=XGBRegressor(base_score=None, booster=None,\n",
      "                                    callbacks=None, colsample_bylevel=None,\n",
      "                                    colsample_bynode=None,\n",
      "                                    colsample_bytree=None, device=None,\n",
      "                                    early_stopping_rounds=None,\n",
      "                                    enable_categorical=False, eval_metric=None,\n",
      "                                    feature_types=None, gamma=None,\n",
      "                                    grow_policy=None, importance_type=None,\n",
      "                                    interaction_constraints=None,\n",
      "                                    learning_rate=None, m...\n",
      "                                    max_depth=None, max_leaves=None,\n",
      "                                    min_child_weight=None, missing=nan,\n",
      "                                    monotone_constraints=None,\n",
      "                                    multi_strategy=None, n_estimators=None,\n",
      "                                    n_jobs=None, num_parallel_tree=None,\n",
      "                                    random_state=42, ...),\n",
      "             param_grid={'colsample_bytree': [0.8, 1],\n",
      "                         'learning_rate': [0.01, 0.1, 0.2],\n",
      "                         'max_depth': [3, 4, 5],\n",
      "                         'n_estimators': [100, 200, 300],\n",
      "                         'subsample': [0.8, 1]},\n",
      "             scoring='neg_mean_squared_error', verbose=1)\n",
      "{'colsample_bytree': 0.8, 'learning_rate': 0.1, 'max_depth': 4, 'n_estimators': 100, 'subsample': 0.8}\n"
     ]
    }
   ],
   "source": [
    "# Inicjalizacja modelu XGBoost (Random Forest)\n",
    "xgb_model = XGBRegressor(objective='reg:squarederror', random_state=42)\n",
    "\n",
    "# Definicja siatki hiperparametrów do przeszukania\n",
    "param_grid = {\n",
    "    'n_estimators': [100, 200, 300],  # liczba drzew\n",
    "    'max_depth': [3, 4, 5],           # maksymalna głębokość drzewa\n",
    "    'learning_rate': [0.01, 0.1, 0.2],# współczynnik uczenia\n",
    "    'subsample': [0.8, 1],            # procent próbek do użycia dla pojedynczego drzewa\n",
    "    'colsample_bytree': [0.8, 1]      # procent cech do użycia dla pojedynczego drzewa\n",
    "}\n",
    "\n",
    "# GridSearchCV do optymalizacji hiperparametrów\n",
    "grid_search = GridSearchCV(estimator=xgb_model, param_grid=param_grid, \n",
    "                           cv=3, scoring='neg_mean_squared_error', verbose=1)\n",
    "\n",
    "# Trening modelu z przeszukaniem hiperparametrów\n",
    "grid_search.fit(X_train, y_train)\n",
    "\n",
    "print(grid_search)  # Wyświetla informacje o obiekcie grid_search\n",
    "\n",
    "# Wyświetlenie najlepszych parametrów\n",
    "print(grid_search.best_params_)  # Wyświetla najlepsze hiperparametry"
   ]
  },
  {
   "cell_type": "code",
   "execution_count": null,
   "id": "6ed5e16d-daad-4729-ae03-c209bc8e94a5",
   "metadata": {},
   "outputs": [],
   "source": [
    "# Predykcja na zbiorze testowym\n",
    "y_pred = grid_search.best_estimator_.predict(X_test)\n",
    "\n",
    "# Ocena modelu - obliczenie błędu średniokwadratowego\n",
    "mse = mean_squared_error(y_test, y_pred)\n",
    "print(f'Błąd średniokwadratowy: {mse}')"
   ]
  },
  {
   "cell_type": "code",
   "execution_count": null,
   "id": "b7e6fb2f-0642-4b10-ba26-4a445ab04a06",
   "metadata": {},
   "outputs": [],
   "source": []
  }
 ],
 "metadata": {
  "kernelspec": {
   "display_name": "Python 3 (ipykernel)",
   "language": "python",
   "name": "python3"
  },
  "language_info": {
   "codemirror_mode": {
    "name": "ipython",
    "version": 3
   },
   "file_extension": ".py",
   "mimetype": "text/x-python",
   "name": "python",
   "nbconvert_exporter": "python",
   "pygments_lexer": "ipython3",
   "version": "3.11.7"
  }
 },
 "nbformat": 4,
 "nbformat_minor": 5
}
